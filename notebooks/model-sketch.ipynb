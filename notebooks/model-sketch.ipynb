{
 "cells": [
  {
   "cell_type": "code",
   "execution_count": 179,
   "metadata": {},
   "outputs": [],
   "source": [
    "from collections import defaultdict\n",
    "import argparse\n",
    "import numpy as np\n",
    "from tqdm.auto import trange\n",
    "import ray\n",
    "\n",
    "import pandas as pd\n",
    "import matplotlib.pyplot as plt\n",
    "\n",
    "from scipy.spatial.distance import cdist"
   ]
  },
  {
   "cell_type": "code",
   "execution_count": 216,
   "metadata": {},
   "outputs": [
    {
     "data": {
      "text/plain": [
       "array([0.06901656, 0.52315469])"
      ]
     },
     "execution_count": 216,
     "metadata": {},
     "output_type": "execute_result"
    }
   ],
   "source": [
    "dist[10]"
   ]
  },
  {
   "cell_type": "code",
   "execution_count": 182,
   "metadata": {},
   "outputs": [],
   "source": [
    "dist = np.random.uniform(0, 1, (10000, 2))"
   ]
  },
  {
   "cell_type": "code",
   "execution_count": 230,
   "metadata": {},
   "outputs": [],
   "source": [
    "# ray.init()\n",
    "\n",
    "# @ray.remote\n",
    "class NeutralModel():\n",
    "    def __init__(self, N=10, S=30, mu=0.3, k=0.2, p=100000, t=10) -> None:\n",
    "        # lookup tables for the types\n",
    "        self.frequency_lookup = defaultdict(int)\n",
    "        # self.meaning_lookup = defaultdict(int)\n",
    "        self.age_lookup = defaultdict(int)\n",
    "        self.sense_lookup = defaultdict(list)\n",
    "\n",
    "        self.N = N # number of types\n",
    "        self.S = S # number of meanings\n",
    "        self.mu = mu # rate of invention/borrowing\n",
    "        self.k = k # rate of reuse\n",
    "        self.p = int(p) # size of sample of tokens\n",
    "        self.t = t # number of time steps\n",
    "\n",
    "        self.initialize()\n",
    "\n",
    "    def initialize(self):\n",
    "        # initialize the meanings and frequencies\n",
    "        for _ in range(self.N):\n",
    "            rt = np.random.randint(0, 10**6)\n",
    "            # self.meaning_lookup[rt] = 1\n",
    "            self.age_lookup[rt] = 0\n",
    "            # randomly sample from dist \n",
    "            self.sense_lookup[rt].append(dist[np.random.choice(dist.shape[0])])\n",
    "\n",
    "        # initailize the pool\n",
    "        self.pool = np.random.choice(list(self.sense_lookup.keys()), size=self.p, replace=True)\n",
    "        \n",
    "        # get list of all coordinates from sense_lookup\n",
    "        coordinates = []\n",
    "        for rt in self.sense_lookup:\n",
    "            coordinates.extend(self.sense_lookup[rt])\n",
    "\n",
    "        # while sum(self.meaning_lookup.values()) < self.S:\n",
    "        # while sum of lengths of lists in sense_lookup < self.S:\n",
    "        while len(coordinates) < self.S:\n",
    "            new_w = np.random.choice(self.pool)\n",
    "            initial_meaning = self.sense_lookup[new_w]\n",
    "            closest_meanings = cdist(np.array(initial_meaning), dist)\n",
    "            print(np.array(initial_meaning))\n",
    "            closest_meanings = dist[np.argsort(closest_meanings)][:10]\n",
    "            new_meaning = closest_meanings[np.random.choice(closest_meanings.shape[0])]\n",
    "            self.sense_lookup[new_w].append(new_meaning)\n",
    "\n",
    "    def step(self, t):\n",
    "        # clean frequency lookup\n",
    "        frequency_lookup = defaultdict(int)\n",
    "\n",
    "        # randomly sample from pool using numpy\n",
    "        self.pool = np.random.choice(self.pool, size=self.p, replace=True)\n",
    "\n",
    "        # NB: invention applies to the pool (i.e. to the list of size p)\n",
    "        invent_index = np.where(np.random.binomial(1, self.mu, size=self.p) == 1)[0]\n",
    "\n",
    "        # adding new forms\n",
    "        for i in invent_index:\n",
    "            rt = np.random.randint(0, 10**6)\n",
    "            self.sense_lookup[rt].append(dist[np.random.choice(dist.shape[0])])\n",
    "            self.age_lookup[rt] = 1\n",
    "            self.pool[i] = rt\n",
    "        \n",
    "        # update frequency_lookup using numpy\n",
    "        unique_types, counts = np.unique(self.pool, return_counts=True) \n",
    "        for rt, count in zip(unique_types, counts):\n",
    "            frequency_lookup[rt] = count\n",
    "        \n",
    "        # NB: reuse applies to the list of types\n",
    "        reuse_index = np.where(np.random.binomial(1, self.k, size=len(unique_types)) == 1)[0]  \n",
    "        for i in reuse_index:\n",
    "            # self.meaning_lookup[unique_types[i]] += 1\n",
    "            # add a new sense by samplign 10 closest meanings from dist\n",
    "            new_meaning = get_top_10_coordinates(dist, self.sense_lookup[unique_types[i]][0])\n",
    "            self.sense_lookup[unique_types[i]].append(new_meaning)\n",
    "        \n",
    "        # remove types that are not in the pool from meaning_lookup\n",
    "        for rt in list(self.meaning_lookup.keys()):\n",
    "            if rt in unique_types:\n",
    "                self.age_lookup[rt] += 1\n",
    "                self.history.append({\n",
    "                        'step': t,\n",
    "                        'id': rt,\n",
    "                        'age': self.age_lookup[rt],\n",
    "                        'count': frequency_lookup[rt],\n",
    "                        'meanings': len(self.sense_lookup[rt]),\n",
    "                        'extinct': 0\n",
    "                    })\n",
    "            else:\n",
    "                self.history.append({\n",
    "                    'step': t,\n",
    "                    'id': rt,\n",
    "                    'age': self.age_lookup[rt],\n",
    "                    'count': frequency_lookup[rt],\n",
    "                    'meanings': len(self.sense_lookup[rt]),\n",
    "                    'extinct': 1\n",
    "                })\n",
    "                del self.meaning_lookup[rt]\n",
    "                del self.age_lookup[rt]\n",
    "        \n",
    "    def run(self):\n",
    "        print(f'Initializing the model with N={self.N}, S={self.S}, mu={self.mu}, k={self.k}, p={self.p}, t={self.t} ...')\n",
    "        self.history = []\n",
    "        name = f'data/model-data/model-N{self.N}_S{self.S}_p{self.p}.csv'\n",
    "\n",
    "        for t in trange(self.t, \n",
    "                bar_format='{l_bar}{bar:30}{r_bar}{bar:-10b}',\n",
    "                desc='Running the model', \n",
    "                position=0, \n",
    "                leave=True):\n",
    "            self.step(t)\n",
    "\n",
    "        with open(name, 'w') as f:\n",
    "            f.write('step,id,age,count,meanings,extinct \\n')\n",
    "            for row in self.history:\n",
    "                f.write(f\"{row['step']},{row['id']},{row['age']},{row['count']},{row['meanings']},{row['extinct']}\\n\")"
   ]
  },
  {
   "cell_type": "code",
   "execution_count": 231,
   "metadata": {},
   "outputs": [
    {
     "name": "stdout",
     "output_type": "stream",
     "text": [
      "[[0.09644168 0.34716743]]\n",
      "[[0.68180878 0.23175542]]\n",
      "[[0.62685981 0.18791449]]\n",
      "[[0.54055546 0.36394382]]\n",
      "[[0.93441492 0.45516159]]\n",
      "[[0.01174316 0.05929828]]\n",
      "[[0.29833801 0.8506045 ]]\n",
      "[[0.13063766 0.71290619]]\n",
      "[[0.84031652 0.27450363]]\n",
      "[[0.91505224 0.15712804]]\n",
      "[[0.96176536 0.12380014]]\n",
      "[[0.95361928 0.19683371]]\n",
      "[[0.83363699 0.41554127]]\n",
      "[[0.82512267 0.63168869]]\n",
      "[[0.99755319 0.6380059 ]]\n",
      "[[0.01381926 0.41118441]]\n",
      "[[0.92670974 0.20108244]]\n"
     ]
    },
    {
     "name": "stderr",
     "output_type": "stream",
     "text": [
      "/var/folders/1c/pphtjl397rnbdcp94xmwzkqr0000gn/T/ipykernel_49802/1529721765.py:43: VisibleDeprecationWarning: Creating an ndarray from ragged nested sequences (which is a list-or-tuple of lists-or-tuples-or ndarrays with different lengths or shapes) is deprecated. If you meant to do this, you must specify 'dtype=object' when creating the ndarray.\n",
      "  closest_meanings = cdist(np.array(initial_meaning), dist)\n"
     ]
    },
    {
     "ename": "ValueError",
     "evalue": "XA must be a 2-dimensional array.",
     "output_type": "error",
     "traceback": [
      "\u001b[0;31m---------------------------------------------------------------------------\u001b[0m",
      "\u001b[0;31mValueError\u001b[0m                                Traceback (most recent call last)",
      "Cell \u001b[0;32mIn[231], line 4\u001b[0m\n\u001b[1;32m      1\u001b[0m \u001b[39m# model = NeutralModel.remote(N=250, S=500, mu=0.01, k=0.1, p=10000, t=300)\u001b[39;00m\n\u001b[1;32m      2\u001b[0m \u001b[39m# ray.get(model.run.remote())\u001b[39;00m\n\u001b[1;32m      3\u001b[0m \u001b[39m# ray.shutdown()\u001b[39;00m\n\u001b[0;32m----> 4\u001b[0m model \u001b[39m=\u001b[39m NeutralModel(N\u001b[39m=\u001b[39;49m\u001b[39m250\u001b[39;49m, S\u001b[39m=\u001b[39;49m\u001b[39m500\u001b[39;49m, mu\u001b[39m=\u001b[39;49m\u001b[39m0.01\u001b[39;49m, k\u001b[39m=\u001b[39;49m\u001b[39m0.1\u001b[39;49m, p\u001b[39m=\u001b[39;49m\u001b[39m10000\u001b[39;49m, t\u001b[39m=\u001b[39;49m\u001b[39m300\u001b[39;49m)\n\u001b[1;32m      5\u001b[0m model\u001b[39m.\u001b[39mrun()\n",
      "Cell \u001b[0;32mIn[230], line 19\u001b[0m, in \u001b[0;36mNeutralModel.__init__\u001b[0;34m(self, N, S, mu, k, p, t)\u001b[0m\n\u001b[1;32m     16\u001b[0m \u001b[39mself\u001b[39m\u001b[39m.\u001b[39mp \u001b[39m=\u001b[39m \u001b[39mint\u001b[39m(p) \u001b[39m# size of sample of tokens\u001b[39;00m\n\u001b[1;32m     17\u001b[0m \u001b[39mself\u001b[39m\u001b[39m.\u001b[39mt \u001b[39m=\u001b[39m t \u001b[39m# number of time steps\u001b[39;00m\n\u001b[0;32m---> 19\u001b[0m \u001b[39mself\u001b[39;49m\u001b[39m.\u001b[39;49minitialize()\n",
      "Cell \u001b[0;32mIn[230], line 43\u001b[0m, in \u001b[0;36mNeutralModel.initialize\u001b[0;34m(self)\u001b[0m\n\u001b[1;32m     41\u001b[0m new_w \u001b[39m=\u001b[39m np\u001b[39m.\u001b[39mrandom\u001b[39m.\u001b[39mchoice(\u001b[39mself\u001b[39m\u001b[39m.\u001b[39mpool)\n\u001b[1;32m     42\u001b[0m initial_meaning \u001b[39m=\u001b[39m \u001b[39mself\u001b[39m\u001b[39m.\u001b[39msense_lookup[new_w]\n\u001b[0;32m---> 43\u001b[0m closest_meanings \u001b[39m=\u001b[39m cdist(np\u001b[39m.\u001b[39;49marray(initial_meaning), dist)\n\u001b[1;32m     44\u001b[0m \u001b[39mprint\u001b[39m(np\u001b[39m.\u001b[39marray(initial_meaning))\n\u001b[1;32m     45\u001b[0m closest_meanings \u001b[39m=\u001b[39m dist[np\u001b[39m.\u001b[39margsort(closest_meanings)][:\u001b[39m10\u001b[39m]\n",
      "File \u001b[0;32m/opt/homebrew/lib/python3.10/site-packages/scipy/spatial/distance.py:2916\u001b[0m, in \u001b[0;36mcdist\u001b[0;34m(XA, XB, metric, out, **kwargs)\u001b[0m\n\u001b[1;32m   2913\u001b[0m sB \u001b[39m=\u001b[39m XB\u001b[39m.\u001b[39mshape\n\u001b[1;32m   2915\u001b[0m \u001b[39mif\u001b[39;00m \u001b[39mlen\u001b[39m(s) \u001b[39m!=\u001b[39m \u001b[39m2\u001b[39m:\n\u001b[0;32m-> 2916\u001b[0m     \u001b[39mraise\u001b[39;00m \u001b[39mValueError\u001b[39;00m(\u001b[39m'\u001b[39m\u001b[39mXA must be a 2-dimensional array.\u001b[39m\u001b[39m'\u001b[39m)\n\u001b[1;32m   2917\u001b[0m \u001b[39mif\u001b[39;00m \u001b[39mlen\u001b[39m(sB) \u001b[39m!=\u001b[39m \u001b[39m2\u001b[39m:\n\u001b[1;32m   2918\u001b[0m     \u001b[39mraise\u001b[39;00m \u001b[39mValueError\u001b[39;00m(\u001b[39m'\u001b[39m\u001b[39mXB must be a 2-dimensional array.\u001b[39m\u001b[39m'\u001b[39m)\n",
      "\u001b[0;31mValueError\u001b[0m: XA must be a 2-dimensional array."
     ]
    }
   ],
   "source": [
    "# model = NeutralModel.remote(N=250, S=500, mu=0.01, k=0.1, p=10000, t=300)\n",
    "# ray.get(model.run.remote())\n",
    "# ray.shutdown()\n",
    "model = NeutralModel(N=250, S=500, mu=0.01, k=0.1, p=10000, t=300)\n",
    "model.run()"
   ]
  },
  {
   "cell_type": "code",
   "execution_count": 163,
   "metadata": {},
   "outputs": [],
   "source": [
    "res = pd.read_csv('data/model-data/model-N2500_S5000_p100000.csv')"
   ]
  },
  {
   "cell_type": "code",
   "execution_count": 164,
   "metadata": {},
   "outputs": [
    {
     "name": "stderr",
     "output_type": "stream",
     "text": [
      "/var/folders/1c/pphtjl397rnbdcp94xmwzkqr0000gn/T/ipykernel_49802/2783852821.py:3: SettingWithCopyWarning: \n",
      "A value is trying to be set on a copy of a slice from a DataFrame.\n",
      "Try using .loc[row_indexer,col_indexer] = value instead\n",
      "\n",
      "See the caveats in the documentation: https://pandas.pydata.org/pandas-docs/stable/user_guide/indexing.html#returning-a-view-versus-a-copy\n",
      "  res_['freq'] = res_['count'] / res_['count'].sum()\n"
     ]
    }
   ],
   "source": [
    "res_ = res[res['step'] == max(res['step'])]\n",
    "# convert count to frequency in res_['count']\n",
    "res_['freq'] = res_['count'] / res_['count'].sum()"
   ]
  },
  {
   "cell_type": "code",
   "execution_count": 165,
   "metadata": {},
   "outputs": [
    {
     "data": {
      "text/plain": [
       "Text(0, 0.5, 'Average age')"
      ]
     },
     "execution_count": 165,
     "metadata": {},
     "output_type": "execute_result"
    },
    {
     "data": {
      "image/png": "[encoded data removed]",
      "text/plain": [
       "<Figure size 1000x400 with 1 Axes>"
      ]
     },
     "metadata": {},
     "output_type": "display_data"
    }
   ],
   "source": [
    "plt.figure(figsize=(10, 4))\n",
    "plt.grid(alpha = 0.3)\n",
    "# plt.scatter(res_['age'], res_['meanings'], s = 10, color = 'blue', alpha = 0.5)\n",
    "# compute average age per each number of meanings\n",
    "res_ = res_.groupby('meanings').mean().reset_index()\n",
    "# add confidence interval\n",
    "plt.scatter(res_['meanings'], res_['age'], s = 10, color = 'blue', alpha = 0.5)\n",
    "plt.xlabel('Number of meanings')\n",
    "plt.ylabel('Average age')"
   ]
  },
  {
   "cell_type": "code",
   "execution_count": 166,
   "metadata": {},
   "outputs": [
    {
     "data": {
      "text/html": [
       "<div>\n",
       "<style scoped>\n",
       "    .dataframe tbody tr th:only-of-type {\n",
       "        vertical-align: middle;\n",
       "    }\n",
       "\n",
       "    .dataframe tbody tr th {\n",
       "        vertical-align: top;\n",
       "    }\n",
       "\n",
       "    .dataframe thead th {\n",
       "        text-align: right;\n",
       "    }\n",
       "</style>\n",
       "<table border=\"1\" class=\"dataframe\">\n",
       "  <thead>\n",
       "    <tr style=\"text-align: right;\">\n",
       "      <th></th>\n",
       "      <th>meanings</th>\n",
       "      <th>step</th>\n",
       "      <th>id</th>\n",
       "      <th>age</th>\n",
       "      <th>count</th>\n",
       "      <th>extinct</th>\n",
       "      <th>freq</th>\n",
       "    </tr>\n",
       "  </thead>\n",
       "  <tbody>\n",
       "    <tr>\n",
       "      <th>0</th>\n",
       "      <td>1</td>\n",
       "      <td>299.0</td>\n",
       "      <td>493631.316071</td>\n",
       "      <td>3.669133</td>\n",
       "      <td>1.824908</td>\n",
       "      <td>0.213728</td>\n",
       "      <td>0.000018</td>\n",
       "    </tr>\n",
       "    <tr>\n",
       "      <th>1</th>\n",
       "      <td>2</td>\n",
       "      <td>299.0</td>\n",
       "      <td>497362.858374</td>\n",
       "      <td>6.495690</td>\n",
       "      <td>3.167488</td>\n",
       "      <td>0.162562</td>\n",
       "      <td>0.000032</td>\n",
       "    </tr>\n",
       "    <tr>\n",
       "      <th>2</th>\n",
       "      <td>3</td>\n",
       "      <td>299.0</td>\n",
       "      <td>495137.197105</td>\n",
       "      <td>10.746102</td>\n",
       "      <td>5.051225</td>\n",
       "      <td>0.094655</td>\n",
       "      <td>0.000051</td>\n",
       "    </tr>\n",
       "    <tr>\n",
       "      <th>3</th>\n",
       "      <td>4</td>\n",
       "      <td>299.0</td>\n",
       "      <td>488389.806122</td>\n",
       "      <td>16.343537</td>\n",
       "      <td>7.957483</td>\n",
       "      <td>0.068027</td>\n",
       "      <td>0.000080</td>\n",
       "    </tr>\n",
       "    <tr>\n",
       "      <th>4</th>\n",
       "      <td>5</td>\n",
       "      <td>299.0</td>\n",
       "      <td>525527.306604</td>\n",
       "      <td>20.726415</td>\n",
       "      <td>9.674528</td>\n",
       "      <td>0.070755</td>\n",
       "      <td>0.000097</td>\n",
       "    </tr>\n",
       "    <tr>\n",
       "      <th>...</th>\n",
       "      <td>...</td>\n",
       "      <td>...</td>\n",
       "      <td>...</td>\n",
       "      <td>...</td>\n",
       "      <td>...</td>\n",
       "      <td>...</td>\n",
       "      <td>...</td>\n",
       "    </tr>\n",
       "    <tr>\n",
       "      <th>68</th>\n",
       "      <td>70</td>\n",
       "      <td>299.0</td>\n",
       "      <td>636772.833333</td>\n",
       "      <td>296.333333</td>\n",
       "      <td>54.333333</td>\n",
       "      <td>0.000000</td>\n",
       "      <td>0.000543</td>\n",
       "    </tr>\n",
       "    <tr>\n",
       "      <th>69</th>\n",
       "      <td>72</td>\n",
       "      <td>299.0</td>\n",
       "      <td>601727.250000</td>\n",
       "      <td>297.500000</td>\n",
       "      <td>23.500000</td>\n",
       "      <td>0.000000</td>\n",
       "      <td>0.000235</td>\n",
       "    </tr>\n",
       "    <tr>\n",
       "      <th>70</th>\n",
       "      <td>76</td>\n",
       "      <td>299.0</td>\n",
       "      <td>259229.000000</td>\n",
       "      <td>300.000000</td>\n",
       "      <td>30.000000</td>\n",
       "      <td>0.000000</td>\n",
       "      <td>0.000300</td>\n",
       "    </tr>\n",
       "    <tr>\n",
       "      <th>71</th>\n",
       "      <td>79</td>\n",
       "      <td>299.0</td>\n",
       "      <td>290217.000000</td>\n",
       "      <td>300.000000</td>\n",
       "      <td>64.000000</td>\n",
       "      <td>0.000000</td>\n",
       "      <td>0.000640</td>\n",
       "    </tr>\n",
       "    <tr>\n",
       "      <th>72</th>\n",
       "      <td>82</td>\n",
       "      <td>299.0</td>\n",
       "      <td>708111.000000</td>\n",
       "      <td>300.000000</td>\n",
       "      <td>21.000000</td>\n",
       "      <td>0.000000</td>\n",
       "      <td>0.000210</td>\n",
       "    </tr>\n",
       "  </tbody>\n",
       "</table>\n",
       "<p>73 rows × 7 columns</p>\n",
       "</div>"
      ],
      "text/plain": [
       "    meanings   step             id         age      count  extinct       freq\n",
       "0          1  299.0  493631.316071    3.669133   1.824908  0.213728  0.000018\n",
       "1          2  299.0  497362.858374    6.495690   3.167488  0.162562  0.000032\n",
       "2          3  299.0  495137.197105   10.746102   5.051225  0.094655  0.000051\n",
       "3          4  299.0  488389.806122   16.343537   7.957483  0.068027  0.000080\n",
       "4          5  299.0  525527.306604   20.726415   9.674528  0.070755  0.000097\n",
       "..       ...    ...            ...         ...        ...       ...       ...\n",
       "68        70  299.0  636772.833333  296.333333  54.333333  0.000000  0.000543\n",
       "69        72  299.0  601727.250000  297.500000  23.500000  0.000000  0.000235\n",
       "70        76  299.0  259229.000000  300.000000  30.000000  0.000000  0.000300\n",
       "71        79  299.0  290217.000000  300.000000  64.000000  0.000000  0.000640\n",
       "72        82  299.0  708111.000000  300.000000  21.000000  0.000000  0.000210\n",
       "\n",
       "[73 rows x 7 columns]"
      ]
     },
     "execution_count": 166,
     "metadata": {},
     "output_type": "execute_result"
    }
   ],
   "source": [
    "res_"
   ]
  },
  {
   "cell_type": "code",
   "execution_count": 167,
   "metadata": {},
   "outputs": [
    {
     "data": {
      "text/plain": [
       "Text(0, 0.5, 'Average frequency')"
      ]
     },
     "execution_count": 167,
     "metadata": {},
     "output_type": "execute_result"
    },
    {
     "data": {
      "image/png": "[encoded data removed]",
      "text/plain": [
       "<Figure size 1000x400 with 1 Axes>"
      ]
     },
     "metadata": {},
     "output_type": "display_data"
    }
   ],
   "source": [
    "plt.figure(figsize=(10, 4))\n",
    "plt.grid(alpha = 0.5)\n",
    "plt.plot(res_['meanings'], res_['freq'], 'o', color = 'black', label = 'mean frequency')\n",
    "plt.xlabel('Number of meanings')\n",
    "plt.ylabel('Average frequency')"
   ]
  }
 ],
 "metadata": {
  "kernelspec": {
   "display_name": "Python 3",
   "language": "python",
   "name": "python3"
  },
  "language_info": {
   "codemirror_mode": {
    "name": "ipython",
    "version": 3
   },
   "file_extension": ".py",
   "mimetype": "text/x-python",
   "name": "python",
   "nbconvert_exporter": "python",
   "pygments_lexer": "ipython3",
   "version": "3.10.11"
  },
  "orig_nbformat": 4
 },
 "nbformat": 4,
 "nbformat_minor": 2
}
